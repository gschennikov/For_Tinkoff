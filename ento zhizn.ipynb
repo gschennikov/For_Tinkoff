{
 "cells": [
  {
   "cell_type": "code",
   "execution_count": 2,
   "metadata": {},
   "outputs": [],
   "source": [
    "import os\n",
    "import pandas as pd\n",
    "import numpy as np\n",
    "import random\n",
    "from IPython.display import clear_output\n",
    "from time import sleep"
   ]
  },
  {
   "cell_type": "code",
   "execution_count": 3,
   "metadata": {
    "scrolled": false
   },
   "outputs": [
    {
     "name": "stdout",
     "output_type": "stream",
     "text": [
      "0 0 0 0 0 0 0 0 0 0 0 0 0 0 0 0 0 0 0 0 0 0 0 0 0 0 0 0 0 0 0\n",
      "0 N N R R N N N R N R R N N N N N N N N N N N N N R N N N N 0\n",
      "0 N N N R N N N N N N R N R N N N N N N N N N N N N R R R N 0\n",
      "0 N N N N N N R N R N N N N R N N N N N R N N N N N N N N N 0\n",
      "0 R N N N N N N N N N N N R N N N R R N R N N R R N N R N R 0\n",
      "0 N N N N N N N N N R N N R N N N R N N N N N R N N N N N N 0\n",
      "0 N N N R R N N N N N N N N R R N N N N N R N N N N N N R N 0\n",
      "0 R N N R R N N R N N N N N R R N R N N N N N N N N N N N N 0\n",
      "0 N N N N N N N N N N R R R N N N N R R R R N N N N N N N N 0\n",
      "0 R N N N N N N N N N R N N N N N N R R N N N N N N N R N N 0\n",
      "0 N N N N N R N N N R N N R N N R N N N N N R R N N R N N R 0\n",
      "0 N N N R R R N R N R N N N R N N N N N R N N N N N N N N N 0\n",
      "0 R N N R N N N R N N N R R R R N N R R N N N N N N N N R N 0\n",
      "0 N N N N N N R N N R N R R N R N N R R N R N N N N R R N N 0\n",
      "0 R N N N N N N N N N N N N N N N R N N R N N N R R R N N N 0\n",
      "0 R N N N N N N N N N N N N N N N R N N N N R R N N R N N N 0\n",
      "0 R N N R N N N R R R N N N R N N N N R N N N N N R N R R R 0\n",
      "0 R N N N R N N N N R N R N N N N R N N N N R N R R N N R N 0\n",
      "0 N N R N N R N R N R N N N N N N N R N N R N N N R N N N N 0\n",
      "0 N R N R N N R R N R N N N N N N N R N N N N N N N N N N R 0\n",
      "0 N N N N N R N N N N N N N N N N N N N N N N R N R N N N N 0\n",
      "0 N N N N N N N N N N N R N N N R R R N N N R R N N N N R N 0\n",
      "0 N N N N N R N N N R R N F N N R R N N N R N N N N N N N R 0\n",
      "0 N R R N N N N N N R R F F R R N N N N N R N N N R N N N N 0\n",
      "0 N N N N N R R N N N R N F N N N N R R N R R N N R N R N N 0\n",
      "0 N N N N N N N N N N R N N N N R N R N N N N N N N R N N N 0\n",
      "0 N N N R N N N R N N R N N R N N N N N N N N N N N N R N N 0\n",
      "0 N N N N N N R N N R N R N R N N N N R N N R N N N R N N N 0\n",
      "0 N R N N N R N N N N N N N N N N N N N N N R N R R N R N N 0\n",
      "0 R N N R R N N N R N N N N R N N R N N N N N N N R R N N N 0\n",
      "0 0 0 0 0 0 0 0 0 0 0 0 0 0 0 0 0 0 0 0 0 0 0 0 0 0 0 0 0 0 0\n"
     ]
    },
    {
     "ename": "KeyboardInterrupt",
     "evalue": "",
     "output_type": "error",
     "traceback": [
      "\u001b[1;31m---------------------------------------------------------------------------\u001b[0m",
      "\u001b[1;31mKeyboardInterrupt\u001b[0m                         Traceback (most recent call last)",
      "\u001b[1;32m<ipython-input-3-bb6511fca3c7>\u001b[0m in \u001b[0;36m<module>\u001b[1;34m\u001b[0m\n\u001b[0;32m     70\u001b[0m                 \u001b[1;32mif\u001b[0m \u001b[0mshrimpcounter\u001b[0m\u001b[1;33m>\u001b[0m\u001b[1;36m3\u001b[0m \u001b[1;32mor\u001b[0m \u001b[0mshrimpcounter\u001b[0m\u001b[1;33m<\u001b[0m\u001b[1;36m3\u001b[0m\u001b[1;33m:\u001b[0m\u001b[1;33m\u001b[0m\u001b[1;33m\u001b[0m\u001b[0m\n\u001b[0;32m     71\u001b[0m                     \u001b[0mmatrix_new\u001b[0m\u001b[1;33m[\u001b[0m\u001b[0mi\u001b[0m\u001b[1;33m]\u001b[0m\u001b[1;33m[\u001b[0m\u001b[0mj\u001b[0m\u001b[1;33m]\u001b[0m \u001b[1;33m=\u001b[0m \u001b[1;34m'N'\u001b[0m\u001b[1;33m\u001b[0m\u001b[1;33m\u001b[0m\u001b[0m\n\u001b[1;32m---> 72\u001b[1;33m     \u001b[0msleep\u001b[0m\u001b[1;33m(\u001b[0m\u001b[1;36m3\u001b[0m\u001b[1;33m)\u001b[0m\u001b[1;33m\u001b[0m\u001b[1;33m\u001b[0m\u001b[0m\n\u001b[0m\u001b[0;32m     73\u001b[0m     \u001b[0mclear_output\u001b[0m\u001b[1;33m(\u001b[0m\u001b[1;33m)\u001b[0m\u001b[1;33m\u001b[0m\u001b[1;33m\u001b[0m\u001b[0m\n\u001b[0;32m     74\u001b[0m     \u001b[0mmatrix_old\u001b[0m \u001b[1;33m=\u001b[0m \u001b[0mmatrix_new\u001b[0m\u001b[1;33m.\u001b[0m\u001b[0mcopy\u001b[0m\u001b[1;33m(\u001b[0m\u001b[1;33m)\u001b[0m\u001b[1;33m\u001b[0m\u001b[1;33m\u001b[0m\u001b[0m\n",
      "\u001b[1;31mKeyboardInterrupt\u001b[0m: "
     ]
    }
   ],
   "source": [
    "def mates(i,j):\n",
    "    mates = []\n",
    "    mates.append([i-1,j-1])\n",
    "    mates.append([i-1,j+1])\n",
    "    mates.append([i+1,j-1])\n",
    "    mates.append([i+1,j+1])\n",
    "    mates.append([i-1,j])\n",
    "    mates.append([i+1,j])\n",
    "    mates.append([i,j-1])\n",
    "    mates.append([i,j+1])\n",
    "    return mates\n",
    "\n",
    "matrix = [[0 for x in range(31)] for y in range(31)]\n",
    "\n",
    "for i in range(1,30):\n",
    "    for j in range(1,30):\n",
    "        matrix[i][j] = random.choice(['S', 'F', 'R', 'N'])\n",
    "            \n",
    "matrix_old = matrix.copy()\n",
    "matrix_new = matrix.copy()\n",
    "\n",
    "alive = True\n",
    "\n",
    "while alive:\n",
    "    for row in matrix_old:\n",
    "        print(*row)\n",
    "    shrimpes_list = []\n",
    "    fishes_list = []\n",
    "    for i in range(1,30):\n",
    "        for j in range(1,30):\n",
    "            if matrix_old[i][j] == 'S':\n",
    "                shrimpes_list.append([i,j])\n",
    "            if matrix_old[i][j] == 'F':\n",
    "                fishes_list.append([i,j])\n",
    "    alive =False\n",
    "    if (len(fishes_list)>0) or (len(shrimpes_list)>0):\n",
    "        alive = True\n",
    "    for i in range(1,30):\n",
    "        for j in range(1,30):\n",
    "            if matrix_old[i][j] == 'F':\n",
    "                matrix_new[i][j] = 'F'\n",
    "                fishcounter = 0\n",
    "                for k in range(8):\n",
    "                    if mates(i,j)[k] in fishes_list:\n",
    "                        fishcounter+=1\n",
    "                if fishcounter>3 or fishcounter<3:\n",
    "                    matrix_new[i][j] = 'N'\n",
    "            if matrix_old[i][j]=='R':\n",
    "                matrix_new[i][j] = 'R'\n",
    "            if matrix_old[i][j] == 'N':\n",
    "                matrix_new[i][j] = 'N'\n",
    "                fishcounter = 0\n",
    "                shrimpcounter = 0\n",
    "                for k in range(8):\n",
    "                    if mates(i,j)[k] in fishes_list:\n",
    "                        fishcounter +=1\n",
    "                if fishcounter == 3:\n",
    "                    matrix_new[i][j]='F'\n",
    "                for k in range(8):\n",
    "                    if mates(i,j)[k] in shrimpes_list:\n",
    "                        shrimpcounter +=1\n",
    "                if shrimpcounter == 3:\n",
    "                    matrix_new[i][j]='S'\n",
    "            if matrix_old[i][j] == 'S':\n",
    "                matrix_new[i][j] = 'S'\n",
    "                shrimpcounter = 0\n",
    "                for k in range(8):\n",
    "                    if mates(i,j)[k] in shrimpes_list:\n",
    "                        shrimpcounter+=1\n",
    "                if shrimpcounter>3 or shrimpcounter<3:\n",
    "                    matrix_new[i][j] = 'N'\n",
    "    sleep(3)\n",
    "    clear_output()\n",
    "    matrix_old = matrix_new.copy()"
   ]
  },
  {
   "cell_type": "code",
   "execution_count": null,
   "metadata": {},
   "outputs": [],
   "source": []
  }
 ],
 "metadata": {
  "kernelspec": {
   "display_name": "Python 3",
   "language": "python",
   "name": "python3"
  },
  "language_info": {
   "codemirror_mode": {
    "name": "ipython",
    "version": 3
   },
   "file_extension": ".py",
   "mimetype": "text/x-python",
   "name": "python",
   "nbconvert_exporter": "python",
   "pygments_lexer": "ipython3",
   "version": "3.7.3"
  }
 },
 "nbformat": 4,
 "nbformat_minor": 2
}
